{
  "nbformat": 4,
  "nbformat_minor": 0,
  "metadata": {
    "colab": {
      "provenance": [],
      "authorship_tag": "ABX9TyMED+G9E0Tlp+o5fen0OZi5",
      "include_colab_link": true
    },
    "kernelspec": {
      "name": "python3",
      "display_name": "Python 3"
    },
    "language_info": {
      "name": "python"
    }
  },
  "cells": [
    {
      "cell_type": "markdown",
      "metadata": {
        "id": "view-in-github",
        "colab_type": "text"
      },
      "source": [
        "<a href=\"https://colab.research.google.com/github/debjit-1004/NNfromZero/blob/main/neural_scratch.ipynb\" target=\"_parent\"><img src=\"https://colab.research.google.com/assets/colab-badge.svg\" alt=\"Open In Colab\"/></a>"
      ]
    },
    {
      "cell_type": "code",
      "execution_count": null,
      "metadata": {
        "colab": {
          "base_uri": "https://localhost:8080/"
        },
        "id": "Gtzqk3gHhoDZ",
        "outputId": "1b3674c8-7f86-4070-b9fe-cb6c25644dcb"
      },
      "outputs": [
        {
          "output_type": "stream",
          "name": "stdout",
          "text": [
            "[4.8   1.21  2.385]\n"
          ]
        }
      ],
      "source": [
        "#modifying three neurons with 4 inputs ...only one layer\n",
        "import numpy as np\n",
        "inputs=[1,2,3,2.5]\n",
        "weights=[\n",
        "    [0.2,0.8,-0.5,1.0],\n",
        "    [0.5,-0.91,0.26,-0.5],\n",
        "    [-0.26,-0.27,0.17,0.87]\n",
        "]\n",
        "\n",
        "biases=[2,3,0.5]\n",
        "\n",
        "output=np.dot(weights,inputs) + biases\n",
        "print(output)"
      ]
    },
    {
      "cell_type": "code",
      "source": [
        "#modifying one neuron with 4 input only one layer\n",
        "inputs=[1,2,3,2.5]\n",
        "weights=[0.2,0.8,-0.5,1.0]\n",
        "bias=2\n",
        "\n",
        "output=np.dot(weights,inputs) + bias\n",
        "print(output)"
      ],
      "metadata": {
        "colab": {
          "base_uri": "https://localhost:8080/"
        },
        "id": "j3NN1E4zmwbK",
        "outputId": "0d58472e-d67c-45c4-aa34-89ed9d9828dd"
      },
      "execution_count": null,
      "outputs": [
        {
          "output_type": "stream",
          "name": "stdout",
          "text": [
            "4.8\n"
          ]
        }
      ]
    },
    {
      "cell_type": "code",
      "source": [
        "#two layers i.e one hidden layer one input layer one output layer implementation\n",
        "#modifying three neurons with 4 inputs ...only one layer\n",
        "import numpy as np\n",
        "#inputs in batch\n",
        "inputs=[[1,2,3,2.5],\n",
        "        [2.0,5.0,-1.0,2.0],\n",
        "        [-1.5,2.7,3.3,-0.8]]\n",
        "\n",
        "weights=[\n",
        "    [0.2,0.8,-0.5,1.0],\n",
        "    [0.5,-0.91,0.26,-0.5],\n",
        "    [-0.26,-0.27,0.17,0.87]\n",
        "]\n",
        "\n",
        "biases=[2,3,0.5]\n",
        "\n",
        "\n",
        "weights2=[\n",
        "    [0.1,-0.14,0.5],\n",
        "    [-0.5,0.12,-0.33],\n",
        "    [-0.44,0.73,-0.13]\n",
        "]\n",
        "biases2=[-1,2,-0.5]\n",
        "\n",
        "\n",
        "\n",
        "layer1_outputs=np.dot(inputs,np.array(weights).T) + biases\n",
        "print(\"layer1_outputs:\\n\",layer1_outputs)\n",
        "\n",
        "layer2_outputs=np.dot(layer1_outputs,np.array(weights2).T) + biases2\n",
        "print(\"layer2_outputs:\\n\",layer2_outputs)\n"
      ],
      "metadata": {
        "colab": {
          "base_uri": "https://localhost:8080/"
        },
        "id": "gghYyiWroP0m",
        "outputId": "29be117e-0074-4f1d-cc28-f2ed1a6faa62"
      },
      "execution_count": null,
      "outputs": [
        {
          "output_type": "stream",
          "name": "stdout",
          "text": [
            "layer1_outputs:\n",
            " [[ 4.8    1.21   2.385]\n",
            " [ 8.9   -1.81   0.2  ]\n",
            " [ 1.41   1.051  0.026]]\n",
            "layer2_outputs:\n",
            " [[ 0.5031  -1.04185 -2.03875]\n",
            " [ 0.2434  -2.7332  -5.7633 ]\n",
            " [-0.99314  1.41254 -0.35655]]\n"
          ]
        }
      ]
    },
    {
      "cell_type": "code",
      "source": [
        "import numpy as np\n",
        "np.random.seed(0)\n",
        "#inputs in batch\n",
        "X=[[1,2,3,2.5],\n",
        "   [2.0,5.0,-1.0,2.0],\n",
        "   [-1.5,2.7,3.3,-0.8]]\n",
        "\n",
        "class Layer_Dense:\n",
        "  def __init__(self, n_inputs, n_neurons):\n",
        "    self.weights=0.10*np.random.randn(n_inputs,n_neurons)\n",
        "    self.biases=np.zeros((1,n_neurons))\n",
        "  def forward(self,inputs):\n",
        "    self.output=np.dot(inputs,self.weights)+self.biases\n",
        "\n",
        "\n",
        "layer1=Layer_Dense(4,5)\n",
        "layer2=Layer_Dense(5,2)\n",
        "\n",
        "layer1.forward(X)\n",
        "print(layer1.output)\n",
        "layer2.forward(layer1.output)\n",
        "print(layer2.output)\n",
        "\n"
      ],
      "metadata": {
        "colab": {
          "base_uri": "https://localhost:8080/"
        },
        "id": "l4Wh_5s6C6Xy",
        "outputId": "e176ef1d-fc19-406d-90be-6e3f8a2061b0"
      },
      "execution_count": null,
      "outputs": [
        {
          "output_type": "stream",
          "name": "stdout",
          "text": [
            "[[ 0.10758131  1.03983522  0.24462411  0.31821498  0.18851053]\n",
            " [-0.08349796  0.70846411  0.00293357  0.44701525  0.36360538]\n",
            " [-0.50763245  0.55688422  0.07987797 -0.34889573  0.04553042]]\n",
            "[[ 0.148296   -0.08397602]\n",
            " [ 0.14100315 -0.01340469]\n",
            " [ 0.20124979 -0.07290616]]\n"
          ]
        }
      ]
    },
    {
      "cell_type": "code",
      "source": [],
      "metadata": {
        "id": "eJ9LhUF4PCst"
      },
      "execution_count": null,
      "outputs": []
    },
    {
      "cell_type": "code",
      "source": [
        "!pip install nnfs\n",
        "\n",
        "import numpy as np\n",
        "import nnfs\n",
        "from nnfs.datasets import spiral_data\n",
        "nnfs.init()\n",
        "\n",
        "#inputs in batch\n",
        "X=[[1,2,3,2.5],\n",
        "   [2.0,5.0,-1.0,2.0],\n",
        "   [-1.5,2.7,3.3,-0.8]]\n",
        "\n",
        "X,y=spiral_data(100,3)\n",
        "\n",
        "class Layer_Dense:\n",
        "  def __init__(self, n_inputs, n_neurons):\n",
        "    self.weights=0.10*np.random.randn(n_inputs,n_neurons)\n",
        "    self.biases=np.zeros((1,n_neurons))\n",
        "  def forward(self,inputs):\n",
        "    self.output=np.dot(inputs,self.weights)+self.biases\n",
        "\n",
        "class Activation_ReLU:\n",
        "  def forward(self,inputs):\n",
        "    self.output=np.maximum(0,inputs)\n",
        "\n",
        "\n",
        "layer1=Layer_Dense(2,5)\n",
        "activation1=Activation_ReLU()\n",
        "\n",
        "layer1.forward(X)\n",
        "print(layer1.output)\n",
        "activation1.forward(layer1.output)\n",
        "print(activation1.output)\n",
        "\n",
        "\n",
        "\n"
      ],
      "metadata": {
        "colab": {
          "base_uri": "https://localhost:8080/"
        },
        "outputId": "6fec1b03-5410-443f-809a-622a7583a485",
        "id": "XIXt6hfiPNgO"
      },
      "execution_count": null,
      "outputs": [
        {
          "output_type": "stream",
          "name": "stdout",
          "text": [
            "Requirement already satisfied: nnfs in /usr/local/lib/python3.10/dist-packages (0.5.1)\n",
            "Requirement already satisfied: numpy in /usr/local/lib/python3.10/dist-packages (from nnfs) (1.26.4)\n",
            "[[ 0.00000000e+00  0.00000000e+00  0.00000000e+00  0.00000000e+00\n",
            "   0.00000000e+00]\n",
            " [-8.35815910e-04 -7.90404272e-04 -1.33452227e-03  4.65504505e-04\n",
            "   4.56846210e-05]\n",
            " [-2.39994470e-03  5.93469958e-05 -2.24808278e-03  2.03573116e-04\n",
            "   6.10024377e-04]\n",
            " ...\n",
            " [ 1.13291524e-01 -1.89262271e-01 -2.06855070e-02  8.11079666e-02\n",
            "  -6.71350807e-02]\n",
            " [ 1.34588361e-01 -1.43197834e-01  3.09493970e-02  5.66337556e-02\n",
            "  -6.29687458e-02]\n",
            " [ 1.07817926e-01 -2.00809643e-01 -3.37579325e-02  8.72561932e-02\n",
            "  -6.81458861e-02]]\n",
            "[[0.00000000e+00 0.00000000e+00 0.00000000e+00 0.00000000e+00\n",
            "  0.00000000e+00]\n",
            " [0.00000000e+00 0.00000000e+00 0.00000000e+00 4.65504505e-04\n",
            "  4.56846210e-05]\n",
            " [0.00000000e+00 5.93469958e-05 0.00000000e+00 2.03573116e-04\n",
            "  6.10024377e-04]\n",
            " ...\n",
            " [1.13291524e-01 0.00000000e+00 0.00000000e+00 8.11079666e-02\n",
            "  0.00000000e+00]\n",
            " [1.34588361e-01 0.00000000e+00 3.09493970e-02 5.66337556e-02\n",
            "  0.00000000e+00]\n",
            " [1.07817926e-01 0.00000000e+00 0.00000000e+00 8.72561932e-02\n",
            "  0.00000000e+00]]\n"
          ]
        }
      ]
    },
    {
      "cell_type": "code",
      "source": [
        "import numpy as np\n",
        "np.random.seed(0)\n",
        "#inputs in batch\n",
        "X=[[1,2,3,2.5],\n",
        "   [2.0,5.0,-1.0,2.0],\n",
        "   [-1.5,2.7,3.3,-0.8]]\n",
        "\n",
        "inputs=[0,2,-1,3.3,-2.7,1.1,2,2,-100]\n",
        "\n",
        "output=[]\n",
        "\n",
        "for i in inputs:\n",
        "  output.append(max(0,i))\n",
        "\n",
        "print(output)"
      ],
      "metadata": {
        "colab": {
          "base_uri": "https://localhost:8080/"
        },
        "id": "tOYnOxi8OGKa",
        "outputId": "6e5facb2-fd43-4baf-ff9f-9a1bc27ac01f"
      },
      "execution_count": null,
      "outputs": [
        {
          "output_type": "stream",
          "name": "stdout",
          "text": [
            "[0, 2, 0, 3.3, 0, 1.1, 2, 2, 0]\n"
          ]
        }
      ]
    },
    {
      "cell_type": "code",
      "source": [
        "#sigmoid activation function\n",
        "import math\n",
        "layer_outputs=[4.8,1.21,2.385]\n",
        "#E=2.718281828\n",
        "E=math.e\n",
        "\n",
        "for output in layer_outputs:\n",
        "    print(1/(1+math.exp(-output)))"
      ],
      "metadata": {
        "colab": {
          "base_uri": "https://localhost:8080/"
        },
        "id": "r_vcpSBpUi6p",
        "outputId": "be5d3d61-358d-44de-e620-d2ab9dda0db8"
      },
      "execution_count": null,
      "outputs": [
        {
          "output_type": "stream",
          "name": "stdout",
          "text": [
            "0.9918374288468401\n",
            "0.7702989490466019\n",
            "0.9156763035785255\n"
          ]
        }
      ]
    },
    {
      "cell_type": "code",
      "source": [
        "import numpy as np\n",
        "import math\n",
        "layer_outputs=[4.8,1.21,2.385]\n",
        "#E=2.718281828\n",
        "E=math.e\n",
        "# exp_values=[]\n",
        "# for output in layer_outputs:\n",
        "#     exp_values.append(E**output)\n",
        "# print(exp_values)\n",
        "exp_values=np.exp(layer_outputs)\n",
        "# print(exp_values)\n",
        "# norm_base=sum(exp_values)\n",
        "# norm_values=[]\n",
        "# for value in exp_values:\n",
        "#     norm_values.append(value/norm_base)\n",
        "# print(norm_values)\n",
        "# print(sum(norm_values))\n",
        "\n",
        "norm_values=exp_values/np.sum(exp_values) #for sum in 2d array we need to specify axis = 1 for row sum ...axis=0 for column sum and use keepdims=True\n",
        "print(norm_values)\n",
        "print(sum(norm_values))"
      ],
      "metadata": {
        "colab": {
          "base_uri": "https://localhost:8080/"
        },
        "id": "NZfqHr7mXaEU",
        "outputId": "d51460aa-219d-44ac-847c-6baa71a67a79"
      },
      "execution_count": 1,
      "outputs": [
        {
          "output_type": "stream",
          "name": "stdout",
          "text": [
            "[0.89528266 0.02470831 0.08000903]\n",
            "0.9999999999999999\n"
          ]
        }
      ]
    },
    {
      "cell_type": "code",
      "source": [
        "!pip install nnfs\n",
        "\n",
        "import numpy as np\n",
        "import nnfs\n",
        "from nnfs.datasets import spiral_data\n",
        "nnfs.init()\n",
        "\n",
        "#inputs in batch\n",
        "\n",
        "\n",
        "class Layer_Dense:\n",
        "  def __init__(self, n_inputs, n_neurons):\n",
        "    self.weights=0.10*np.random.randn(n_inputs,n_neurons)\n",
        "    self.biases=np.zeros((1,n_neurons))\n",
        "  def forward(self,inputs):\n",
        "    self.output=np.dot(inputs,self.weights)+self.biases\n",
        "\n",
        "class Activation_ReLU:\n",
        "  def forward(self,inputs):\n",
        "    self.output=np.maximum(0,inputs)\n",
        "\n",
        "class Activation_softmax():\n",
        "  def forward(self,inputs):\n",
        "    exp_values=np.exp(inputs-np.max(inputs,axis=1,keepdims=True))\n",
        "    probabilities=exp_values/np.sum(exp_values,axis=1,keepdims=True)\n",
        "    self.output=probabilities\n",
        "\n",
        "X,y=spiral_data(100,3)\n",
        "\n",
        "dense1=Layer_Dense(2,3)\n",
        "activation1=Activation_ReLU()\n",
        "\n",
        "dense2=Layer_Dense(3,3)\n",
        "activation2=Activation_softmax()\n",
        "\n",
        "dense1.forward(X)\n",
        "activation1.forward(dense1.output)\n",
        "dense2.forward(activation1.output)\n",
        "activation2.forward(dense2.output)\n",
        "\n",
        "\n",
        "print(activation2.output[:5])"
      ],
      "metadata": {
        "colab": {
          "base_uri": "https://localhost:8080/"
        },
        "id": "XgBSPPGtd3-5",
        "outputId": "ff73f8ff-394b-4322-a369-9d3856e60e30"
      },
      "execution_count": 2,
      "outputs": [
        {
          "output_type": "stream",
          "name": "stdout",
          "text": [
            "Collecting nnfs\n",
            "  Downloading nnfs-0.5.1-py3-none-any.whl.metadata (1.7 kB)\n",
            "Requirement already satisfied: numpy in /usr/local/lib/python3.10/dist-packages (from nnfs) (1.26.4)\n",
            "Downloading nnfs-0.5.1-py3-none-any.whl (9.1 kB)\n",
            "Installing collected packages: nnfs\n",
            "Successfully installed nnfs-0.5.1\n",
            "[[0.33333334 0.33333334 0.33333334]\n",
            " [0.33331734 0.3333183  0.33336434]\n",
            " [0.3332888  0.33329153 0.33341965]\n",
            " [0.33325943 0.33326396 0.33347666]\n",
            " [0.33323312 0.33323926 0.33352762]]\n"
          ]
        }
      ]
    },
    {
      "cell_type": "code",
      "source": [
        "#catagorical cross entropy\n",
        "import math\n",
        "softmax_output=[0.7,0.1,0.2]\n",
        "target_output=[1,0,0]\n",
        "loss=-math.log(softmax_output[0])\n",
        "print(loss)"
      ],
      "metadata": {
        "colab": {
          "base_uri": "https://localhost:8080/"
        },
        "id": "yHWibEIHlwCQ",
        "outputId": "4ebb306b-aaad-42fb-adc4-aa6b8ee37ec7"
      },
      "execution_count": 3,
      "outputs": [
        {
          "output_type": "stream",
          "name": "stdout",
          "text": [
            "0.35667494393873245\n"
          ]
        }
      ]
    },
    {
      "cell_type": "code",
      "source": [
        "#implementing loss\n",
        "import numpy as np\n",
        "softmax_output=np.array([[0.7,0.1,0.2],\n",
        "                        [0.1,0.5,0.4],\n",
        "                        [0.02,0.9,0.08]])\n",
        "class_targets=[0,1,1]\n",
        "print(softmax_output[[0,1,2],class_targets])\n",
        "print(np.mean(-np.log(softmax_output[range(len(softmax_output)),class_targets])))\n"
      ],
      "metadata": {
        "colab": {
          "base_uri": "https://localhost:8080/"
        },
        "id": "El8VKbW9ooyy",
        "outputId": "f6f9b2cc-c409-483a-9f3a-b08035ba0067"
      },
      "execution_count": 4,
      "outputs": [
        {
          "output_type": "stream",
          "name": "stdout",
          "text": [
            "[0.7 0.5 0.9]\n",
            "0.38506088005216804\n"
          ]
        }
      ]
    },
    {
      "cell_type": "code",
      "source": [
        "!pip install nnfs\n",
        "\n",
        "import numpy as np\n",
        "import nnfs\n",
        "from nnfs.datasets import spiral_data\n",
        "nnfs.init()\n",
        "\n",
        "\n",
        "\n",
        "\n",
        "class Layer_Dense:\n",
        "  def __init__(self, n_inputs, n_neurons):\n",
        "    self.weights=0.10*np.random.randn(n_inputs,n_neurons)\n",
        "    self.biases=np.zeros((1,n_neurons))\n",
        "  def forward(self,inputs):\n",
        "    self.output=np.dot(inputs,self.weights)+self.biases\n",
        "\n",
        "class Activation_ReLU:\n",
        "  def forward(self,inputs):\n",
        "    self.output=np.maximum(0,inputs)\n",
        "\n",
        "class Activation_softmax:\n",
        "  def forward(self,inputs):\n",
        "    exp_values=np.exp(inputs-np.max(inputs,axis=1,keepdims=True))\n",
        "    probabilities=exp_values/np.sum(exp_values,axis=1,keepdims=True)\n",
        "    self.output=probabilities\n",
        "\n",
        "class Loss:\n",
        "  def calculate(self,output,y):\n",
        "    sample_losses=self.forward(output,y)\n",
        "    data_loss=np.mean(sample_losses)\n",
        "    return data_loss\n",
        "\n",
        "class Loss_CatagoricalCrossentropy(Loss):\n",
        "  def forward(self,y_pred,y_true):\n",
        "    samples=len(y_pred)\n",
        "    y_pred_clipped=np.clip(y_pred,1e-7,1-1e-7)\n",
        "    if len(y_true.shape)==1:\n",
        "      correct_confidences=y_pred_clipped[range(samples),y_true]\n",
        "    elif len(y_true.shape)==2:\n",
        "      correct_confidences=np.sum(y_pred_clipped*y_true,axis=1)\n",
        "    negative_log_likelihoods=-np.log(correct_confidences)\n",
        "    return negative_log_likelihoods\n",
        "\n",
        "\n",
        "\n",
        "X,y=spiral_data(100,3)\n",
        "\n",
        "dense1=Layer_Dense(2,3)\n",
        "activation1=Activation_ReLU()\n",
        "\n",
        "dense2=Layer_Dense(3,3)\n",
        "activation2=Activation_softmax()\n",
        "\n",
        "dense1.forward(X)\n",
        "activation1.forward(dense1.output)\n",
        "dense2.forward(activation1.output)\n",
        "activation2.forward(dense2.output)\n",
        "\n",
        "\n",
        "print(activation2.output[:5])\n",
        "\n",
        "loss_function=Loss_CatagoricalCrossentropy()\n",
        "loss=loss_function.calculate(activation2.output,y)\n",
        "print(\"loss:\",loss)\n"
      ],
      "metadata": {
        "colab": {
          "base_uri": "https://localhost:8080/"
        },
        "id": "oFBslTErsNuI",
        "outputId": "2bc4cdfe-28e8-4e03-a851-4a4327618581"
      },
      "execution_count": 5,
      "outputs": [
        {
          "output_type": "stream",
          "name": "stdout",
          "text": [
            "Requirement already satisfied: nnfs in /usr/local/lib/python3.10/dist-packages (0.5.1)\n",
            "Requirement already satisfied: numpy in /usr/local/lib/python3.10/dist-packages (from nnfs) (1.26.4)\n",
            "[[0.33333334 0.33333334 0.33333334]\n",
            " [0.33331734 0.3333183  0.33336434]\n",
            " [0.3332888  0.33329153 0.33341965]\n",
            " [0.33325943 0.33326396 0.33347666]\n",
            " [0.33323312 0.33323926 0.33352762]]\n",
            "loss: 1.098445\n"
          ]
        }
      ]
    },
    {
      "cell_type": "code",
      "source": [
        "#backpropagation"
      ],
      "metadata": {
        "id": "7QJB46Y32cUm"
      },
      "execution_count": null,
      "outputs": []
    }
  ]
}